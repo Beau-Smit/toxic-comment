{
  "nbformat": 4,
  "nbformat_minor": 0,
  "metadata": {
    "colab": {
      "name": "Toxic Comment Classifier v2.ipynb",
      "provenance": [],
      "collapsed_sections": []
    },
    "kernelspec": {
      "name": "python3",
      "display_name": "Python 3"
    },
    "language_info": {
      "name": "python"
    }
  },
  "cells": [
    {
      "cell_type": "code",
      "source": [
        "!pip install torchtext==0.11.2\n",
        "#!pip install torchdata==0.3.0\n",
        "#!pip install torch\n",
        "#!pip install spellchecker\n",
        "#!pip install pyspellchecker\n",
        "#!pip install nltk"
      ],
      "metadata": {
        "colab": {
          "base_uri": "https://localhost:8080/",
          "height": 643
        },
        "id": "X2z8czhKGbz8",
        "outputId": "b4d07e6e-d0fb-4951-b418-6b19c9c1d399"
      },
      "execution_count": 5,
      "outputs": [
        {
          "output_type": "stream",
          "name": "stdout",
          "text": [
            "Looking in indexes: https://pypi.org/simple, https://us-python.pkg.dev/colab-wheels/public/simple/\n",
            "Collecting torchtext==0.11.2\n",
            "  Downloading torchtext-0.11.2-cp37-cp37m-manylinux1_x86_64.whl (8.0 MB)\n",
            "\u001b[K     |████████████████████████████████| 8.0 MB 7.2 MB/s \n",
            "\u001b[?25hRequirement already satisfied: tqdm in /usr/local/lib/python3.7/dist-packages (from torchtext==0.11.2) (4.64.0)\n",
            "Collecting torch==1.10.2\n",
            "  Downloading torch-1.10.2-cp37-cp37m-manylinux1_x86_64.whl (881.9 MB)\n",
            "\u001b[K     |██████████████████████████████▎ | 834.1 MB 1.2 MB/s eta 0:00:39tcmalloc: large alloc 1147494400 bytes == 0x399ec000 @  0x7fe4d2192615 0x592b76 0x4df71e 0x59afff 0x515655 0x549576 0x593fce 0x548ae9 0x51566f 0x549576 0x593fce 0x548ae9 0x5127f1 0x598e3b 0x511f68 0x598e3b 0x511f68 0x598e3b 0x511f68 0x4bc98a 0x532e76 0x594b72 0x515600 0x549576 0x593fce 0x548ae9 0x5127f1 0x549576 0x593fce 0x5118f8 0x593dd7\n",
            "\u001b[K     |████████████████████████████████| 881.9 MB 1.8 kB/s \n",
            "\u001b[?25hRequirement already satisfied: requests in /usr/local/lib/python3.7/dist-packages (from torchtext==0.11.2) (2.23.0)\n",
            "Requirement already satisfied: numpy in /usr/local/lib/python3.7/dist-packages (from torchtext==0.11.2) (1.21.6)\n",
            "Requirement already satisfied: typing-extensions in /usr/local/lib/python3.7/dist-packages (from torch==1.10.2->torchtext==0.11.2) (4.2.0)\n",
            "Requirement already satisfied: idna<3,>=2.5 in /usr/local/lib/python3.7/dist-packages (from requests->torchtext==0.11.2) (2.10)\n",
            "Requirement already satisfied: chardet<4,>=3.0.2 in /usr/local/lib/python3.7/dist-packages (from requests->torchtext==0.11.2) (3.0.4)\n",
            "Requirement already satisfied: urllib3!=1.25.0,!=1.25.1,<1.26,>=1.21.1 in /usr/local/lib/python3.7/dist-packages (from requests->torchtext==0.11.2) (1.24.3)\n",
            "Requirement already satisfied: certifi>=2017.4.17 in /usr/local/lib/python3.7/dist-packages (from requests->torchtext==0.11.2) (2022.5.18.1)\n",
            "Installing collected packages: torch, torchtext\n",
            "  Attempting uninstall: torch\n",
            "    Found existing installation: torch 1.11.0+cu113\n",
            "    Uninstalling torch-1.11.0+cu113:\n",
            "      Successfully uninstalled torch-1.11.0+cu113\n",
            "  Attempting uninstall: torchtext\n",
            "    Found existing installation: torchtext 0.12.0\n",
            "    Uninstalling torchtext-0.12.0:\n",
            "      Successfully uninstalled torchtext-0.12.0\n",
            "\u001b[31mERROR: pip's dependency resolver does not currently take into account all the packages that are installed. This behaviour is the source of the following dependency conflicts.\n",
            "torchvision 0.12.0+cu113 requires torch==1.11.0, but you have torch 1.10.2 which is incompatible.\n",
            "torchaudio 0.11.0+cu113 requires torch==1.11.0, but you have torch 1.10.2 which is incompatible.\u001b[0m\n",
            "Successfully installed torch-1.10.2 torchtext-0.11.2\n"
          ]
        },
        {
          "output_type": "display_data",
          "data": {
            "application/vnd.colab-display-data+json": {
              "pip_warning": {
                "packages": [
                  "torch",
                  "torchtext"
                ]
              }
            }
          },
          "metadata": {}
        }
      ]
    },
    {
      "cell_type": "code",
      "source": [
        "import torchtext\n",
        "import torch\n",
        "import pandas as pd\n",
        "import numpy as np\n",
        "import nltk\n",
        "#import preprocessing\n",
        "from sklearn.model_selection import train_test_split"
      ],
      "metadata": {
        "id": "lRjYD2lzGeRf"
      },
      "execution_count": 6,
      "outputs": []
    },
    {
      "cell_type": "code",
      "source": [
        "# From https://towardsdatascience.com/lstm-text-classification-using-pytorch-2c6c657f8fc0\n",
        "\n",
        "df_clean = pd.read_csv(\"sample_data_clean.csv\")\n",
        "df_clean.rename(columns={'toxic_any': 'label'}, inplace=True)\n",
        "df_clean = df_clean[['label', 'clean_text']]\n",
        "\n",
        "df_train, df_test = train_test_split(df_clean, test_size=0.2, random_state=23)\n",
        "df_train, df_valid = train_test_split(df_train, test_size=0.5, random_state=23)\n",
        "df_train.reset_index(inplace=True)\n",
        "df_valid.reset_index(inplace=True)\n",
        "df_test.reset_index(inplace=True)\n",
        "\n",
        "df_train.drop(columns=['index'], inplace=True)\n",
        "df_valid.drop(columns=['index'], inplace=True)\n",
        "df_test.drop(columns=['index'], inplace=True)\n",
        "\n",
        "df_train.to_csv('train.csv', index=False)\n",
        "df_valid.to_csv('valid.csv', index=False)\n",
        "df_test.to_csv('test.csv', index=False)"
      ],
      "metadata": {
        "id": "C59RRfMf__Xz"
      },
      "execution_count": 7,
      "outputs": []
    },
    {
      "cell_type": "code",
      "source": [
        "from torchtext.legacy.data import Field, TabularDataset, BucketIterator, Iterator\n",
        "\n",
        "label_field = Field(sequential=False, use_vocab=False, batch_first=True, dtype=torch.float)\n",
        "text_field = Field(tokenize='spacy', lower=True, include_lengths=True, batch_first=True)\n",
        "fields = [('label', label_field), ('clean_text', text_field)]\n",
        "device = None\n",
        "\n",
        "train, valid, test = TabularDataset.splits(path = './',\n",
        "                                    train='train.csv', \n",
        "                                    validation='valid.csv',\n",
        "                                    test='test.csv',\n",
        "                                    format='CSV',\n",
        "                                    fields=fields, \n",
        "                                    skip_header=True)"
      ],
      "metadata": {
        "id": "sRdRZKUvICC4"
      },
      "execution_count": 8,
      "outputs": []
    },
    {
      "cell_type": "code",
      "execution_count": 9,
      "metadata": {
        "id": "ddJwrsZAGNmP"
      },
      "outputs": [],
      "source": [
        "# Iterators\n",
        "train_iter = BucketIterator(train, batch_size=32, sort_key=lambda x: len(x.clean_text),\n",
        "                            device=device, sort=True, sort_within_batch=True)\n",
        "valid_iter = BucketIterator(valid, batch_size=32, sort_key=lambda x: len(x.clean_text),\n",
        "                            device=device, sort=True, sort_within_batch=True)\n",
        "test_iter = BucketIterator(test, batch_size=32, sort_key=lambda x: len(x.clean_text),\n",
        "                            device=device, sort=True, sort_within_batch=True)\n",
        "\n",
        "# Vocabulary\n",
        "text_field.build_vocab(train, min_freq=3)"
      ]
    },
    {
      "cell_type": "code",
      "source": [
        "text_field.vocab.itos[0]"
      ],
      "metadata": {
        "colab": {
          "base_uri": "https://localhost:8080/",
          "height": 35
        },
        "id": "7g4JBeoDYMIL",
        "outputId": "a73c0c90-f83e-48da-df6b-058ec0c68b9e"
      },
      "execution_count": 10,
      "outputs": [
        {
          "output_type": "execute_result",
          "data": {
            "text/plain": [
              "'<unk>'"
            ],
            "application/vnd.google.colaboratory.intrinsic+json": {
              "type": "string"
            }
          },
          "metadata": {},
          "execution_count": 10
        }
      ]
    },
    {
      "cell_type": "code",
      "source": [
        "dir(text_field.vocab)"
      ],
      "metadata": {
        "colab": {
          "base_uri": "https://localhost:8080/"
        },
        "id": "-vDLXUPRYSdN",
        "outputId": "699891dd-f9f6-4a24-cfa0-54c410e4f673"
      },
      "execution_count": 11,
      "outputs": [
        {
          "output_type": "execute_result",
          "data": {
            "text/plain": [
              "['UNK',\n",
              " '__class__',\n",
              " '__delattr__',\n",
              " '__dict__',\n",
              " '__dir__',\n",
              " '__doc__',\n",
              " '__eq__',\n",
              " '__format__',\n",
              " '__ge__',\n",
              " '__getattribute__',\n",
              " '__getitem__',\n",
              " '__getstate__',\n",
              " '__gt__',\n",
              " '__hash__',\n",
              " '__init__',\n",
              " '__init_subclass__',\n",
              " '__le__',\n",
              " '__len__',\n",
              " '__lt__',\n",
              " '__module__',\n",
              " '__ne__',\n",
              " '__new__',\n",
              " '__reduce__',\n",
              " '__reduce_ex__',\n",
              " '__repr__',\n",
              " '__setattr__',\n",
              " '__setstate__',\n",
              " '__sizeof__',\n",
              " '__str__',\n",
              " '__subclasshook__',\n",
              " '__weakref__',\n",
              " '_default_unk_index',\n",
              " 'extend',\n",
              " 'freqs',\n",
              " 'itos',\n",
              " 'load_vectors',\n",
              " 'lookup_indices',\n",
              " 'set_vectors',\n",
              " 'stoi',\n",
              " 'unk_index',\n",
              " 'vectors']"
            ]
          },
          "metadata": {},
          "execution_count": 11
        }
      ]
    },
    {
      "cell_type": "code",
      "source": [
        "import torch.nn as nn\n",
        "from torch.nn.utils.rnn import pack_padded_sequence, pad_packed_sequence\n",
        "\n",
        "class LSTM(nn.Module):\n",
        "\n",
        "    def __init__(self, dimension=128):\n",
        "        super(LSTM, self).__init__()\n",
        "\n",
        "        self.embedding = nn.Embedding(len(text_field.vocab), 300)\n",
        "        self.dimension = dimension\n",
        "        self.lstm = nn.LSTM(input_size=300,\n",
        "                            hidden_size=dimension,\n",
        "                            num_layers=1,\n",
        "                            batch_first=True,\n",
        "                            bidirectional=True)\n",
        "        self.drop = nn.Dropout(p=0.5)\n",
        "\n",
        "        self.fc = nn.Linear(2*dimension, 1)\n",
        "\n",
        "    def forward(self, text, text_len):\n",
        "\n",
        "        text_emb = self.embedding(text)\n",
        "        print('text_emb', text_emb.shape)\n",
        "\n",
        "        packed_input = pack_padded_sequence(text_emb, text_len, batch_first=True, enforce_sorted=False)\n",
        "        print('packed input', packed_input[0].shape, packed_input[1].shape)\n",
        "        packed_output, _ = self.lstm(packed_input)\n",
        "        print('packed output', packed_output[0].shape, packed_output[1].shape)\n",
        "        output, _ = pad_packed_sequence(packed_output, batch_first=True)\n",
        "        print('output', output.shape)\n",
        "\n",
        "        out_forward = output[range(len(output)), text_len - 1, :self.dimension]\n",
        "        print('out_forward dim', out_forward.shape)\n",
        "        out_reverse = output[:, 0, self.dimension:]\n",
        "        print('out_reverse dim', out_reverse.shape)\n",
        "\n",
        "        out_reduced = torch.cat((out_forward, out_reverse), 1)\n",
        "        print('out_reduced', out_reduced.shape)\n",
        "        text_fea = self.drop(out_reduced)\n",
        "        print('text_fea', text_fea.shape)\n",
        "\n",
        "        text_fea = self.fc(text_fea)\n",
        "        print('text_fea2', text_fea.shape)\n",
        "        text_fea = torch.squeeze(text_fea, 1)\n",
        "        print('text_fea2', text_fea.shape)\n",
        "        text_out = torch.sigmoid(text_fea)\n",
        "        print('text_out', text_out.shape)\n",
        "\n",
        "        return text_out"
      ],
      "metadata": {
        "id": "jinKmJBSLgku"
      },
      "execution_count": 27,
      "outputs": []
    },
    {
      "cell_type": "code",
      "source": [
        "def save_checkpoint(save_path, model, optimizer, valid_loss):\n",
        "\n",
        "    if save_path == None:\n",
        "        return\n",
        "    \n",
        "    state_dict = {'model_state_dict': model.state_dict(),\n",
        "                  'optimizer_state_dict': optimizer.state_dict(),\n",
        "                  'valid_loss': valid_loss}\n",
        "    \n",
        "    torch.save(state_dict, save_path)\n",
        "    print(f'Model saved to ==> {save_path}')\n",
        "\n",
        "\n",
        "def load_checkpoint(load_path, model, optimizer):\n",
        "\n",
        "    if load_path==None:\n",
        "        return\n",
        "    \n",
        "    state_dict = torch.load(load_path, map_location=device)\n",
        "    print(f'Model loaded from <== {load_path}')\n",
        "    \n",
        "    model.load_state_dict(state_dict['model_state_dict'])\n",
        "    optimizer.load_state_dict(state_dict['optimizer_state_dict'])\n",
        "    \n",
        "    return state_dict['valid_loss']\n",
        "\n",
        "\n",
        "def save_metrics(save_path, train_loss_list, valid_loss_list, global_steps_list):\n",
        "\n",
        "    if save_path == None:\n",
        "        return\n",
        "    \n",
        "    state_dict = {'train_loss_list': train_loss_list,\n",
        "                  'valid_loss_list': valid_loss_list,\n",
        "                  'global_steps_list': global_steps_list}\n",
        "    \n",
        "    torch.save(state_dict, save_path)\n",
        "    print(f'Model saved to ==> {save_path}')\n",
        "\n",
        "\n",
        "def load_metrics(load_path):\n",
        "\n",
        "    if load_path==None:\n",
        "        return\n",
        "    \n",
        "    state_dict = torch.load(load_path, map_location=device)\n",
        "    print(f'Model loaded from <== {load_path}')\n",
        "    \n",
        "    return state_dict['train_loss_list'], state_dict['valid_loss_list'], state_dict['global_steps_list']"
      ],
      "metadata": {
        "id": "7D1HZsYYNx3b"
      },
      "execution_count": 28,
      "outputs": []
    },
    {
      "cell_type": "code",
      "source": [
        "import torch.optim as optim\n",
        "\n",
        "def train(model,\n",
        "          optimizer,\n",
        "          criterion = nn.BCELoss(),\n",
        "          train_loader = train_iter,\n",
        "          valid_loader = valid_iter,\n",
        "          num_epochs = 5,\n",
        "          eval_every = len(train_iter) // 2,\n",
        "          file_path = './',\n",
        "          best_valid_loss = float(\"Inf\")):\n",
        "    \n",
        "    # initialize running values\n",
        "    running_loss = 0.0\n",
        "    valid_running_loss = 0.0\n",
        "    global_step = 0\n",
        "    train_loss_list = []\n",
        "    valid_loss_list = []\n",
        "    global_steps_list = []\n",
        "    # training loop\n",
        "    model.train()\n",
        "    for epoch in range(num_epochs):\n",
        "      #[('toxic_any', label_field), ('comment_text', text_field)]\n",
        "        for (labels, (text, text_len)), _ in train_loader:           \n",
        "            labels = labels.to(device)\n",
        "            text = text.to(device)\n",
        "            output = model(text, text_len)\n",
        "            break\n",
        "\n",
        "            loss = criterion(output, labels)\n",
        "            optimizer.zero_grad()\n",
        "            loss.backward()\n",
        "            optimizer.step()\n",
        "\n",
        "            # update running values\n",
        "            running_loss += loss.item()\n",
        "            global_step += 1\n",
        "\n",
        "            # evaluation step\n",
        "            if global_step % eval_every == 0:\n",
        "                model.eval()\n",
        "                with torch.no_grad():                    \n",
        "                  # validation loop\n",
        "                  for (labels, (text, text_len)), _ in valid_loader:\n",
        "                      labels = labels.to(device)\n",
        "                      text = text.to(device)\n",
        "                      output = model(text, text_len)\n",
        "\n",
        "                      loss = criterion(output, labels)\n",
        "                      valid_running_loss += loss.item()\n",
        "\n",
        "                # evaluation\n",
        "                average_train_loss = running_loss / eval_every\n",
        "                average_valid_loss = valid_running_loss / len(valid_loader)\n",
        "                train_loss_list.append(average_train_loss)\n",
        "                valid_loss_list.append(average_valid_loss)\n",
        "                global_steps_list.append(global_step)\n",
        "\n",
        "                # resetting running values\n",
        "                running_loss = 0.0                \n",
        "                valid_running_loss = 0.0\n",
        "                model.train()\n",
        "\n",
        "                # print progress\n",
        "                print('Epoch [{}/{}], Step [{}/{}], Train Loss: {:.4f}, Valid Loss: {:.4f}'\n",
        "                      .format(epoch+1, num_epochs, global_step, num_epochs*len(train_loader),\n",
        "                              average_train_loss, average_valid_loss))\n",
        "                \n",
        "                # checkpoint\n",
        "                if best_valid_loss > average_valid_loss:\n",
        "                    best_valid_loss = average_valid_loss\n",
        "                    save_checkpoint(file_path + '/model.pt', model, optimizer, best_valid_loss)\n",
        "                    save_metrics(file_path + '/metrics.pt', train_loss_list, valid_loss_list, global_steps_list)\n",
        "    \n",
        "    save_metrics(file_path + '/metrics.pt', train_loss_list, valid_loss_list, global_steps_list)\n",
        "    print('Finished Training!')\n",
        "\n",
        "\n",
        "model = LSTM().to(device)\n",
        "optimizer = optim.Adam(model.parameters(), lr=0.001)\n",
        "\n",
        "train(model=model, optimizer=optimizer, num_epochs=10)"
      ],
      "metadata": {
        "colab": {
          "base_uri": "https://localhost:8080/"
        },
        "id": "r3h5AVFxP6lJ",
        "outputId": "94643b90-15cf-43f1-9182-0dd17c8f4351"
      },
      "execution_count": 29,
      "outputs": [
        {
          "output_type": "stream",
          "name": "stdout",
          "text": [
            "text_emb torch.Size([32, 3, 300])\n",
            "packed input torch.Size([72, 300]) torch.Size([3])\n",
            "packed output torch.Size([72, 256]) torch.Size([3])\n",
            "output torch.Size([32, 3, 256])\n",
            "out_forward dim torch.Size([32, 128])\n",
            "out_reverse dim torch.Size([32, 128])\n",
            "out_reduced torch.Size([32, 256])\n",
            "text_fea torch.Size([32, 256])\n",
            "text_fea2 torch.Size([32, 1])\n",
            "text_fea2 torch.Size([32])\n",
            "text_out torch.Size([32])\n",
            "text_emb torch.Size([32, 3, 300])\n",
            "packed input torch.Size([72, 300]) torch.Size([3])\n",
            "packed output torch.Size([72, 256]) torch.Size([3])\n",
            "output torch.Size([32, 3, 256])\n",
            "out_forward dim torch.Size([32, 128])\n",
            "out_reverse dim torch.Size([32, 128])\n",
            "out_reduced torch.Size([32, 256])\n",
            "text_fea torch.Size([32, 256])\n",
            "text_fea2 torch.Size([32, 1])\n",
            "text_fea2 torch.Size([32])\n",
            "text_out torch.Size([32])\n",
            "text_emb torch.Size([32, 3, 300])\n",
            "packed input torch.Size([72, 300]) torch.Size([3])\n",
            "packed output torch.Size([72, 256]) torch.Size([3])\n",
            "output torch.Size([32, 3, 256])\n",
            "out_forward dim torch.Size([32, 128])\n",
            "out_reverse dim torch.Size([32, 128])\n",
            "out_reduced torch.Size([32, 256])\n",
            "text_fea torch.Size([32, 256])\n",
            "text_fea2 torch.Size([32, 1])\n",
            "text_fea2 torch.Size([32])\n",
            "text_out torch.Size([32])\n",
            "text_emb torch.Size([32, 3, 300])\n",
            "packed input torch.Size([72, 300]) torch.Size([3])\n",
            "packed output torch.Size([72, 256]) torch.Size([3])\n",
            "output torch.Size([32, 3, 256])\n",
            "out_forward dim torch.Size([32, 128])\n",
            "out_reverse dim torch.Size([32, 128])\n",
            "out_reduced torch.Size([32, 256])\n",
            "text_fea torch.Size([32, 256])\n",
            "text_fea2 torch.Size([32, 1])\n",
            "text_fea2 torch.Size([32])\n",
            "text_out torch.Size([32])\n",
            "text_emb torch.Size([32, 3, 300])\n",
            "packed input torch.Size([72, 300]) torch.Size([3])\n",
            "packed output torch.Size([72, 256]) torch.Size([3])\n",
            "output torch.Size([32, 3, 256])\n",
            "out_forward dim torch.Size([32, 128])\n",
            "out_reverse dim torch.Size([32, 128])\n",
            "out_reduced torch.Size([32, 256])\n",
            "text_fea torch.Size([32, 256])\n",
            "text_fea2 torch.Size([32, 1])\n",
            "text_fea2 torch.Size([32])\n",
            "text_out torch.Size([32])\n",
            "text_emb torch.Size([32, 3, 300])\n",
            "packed input torch.Size([72, 300]) torch.Size([3])\n",
            "packed output torch.Size([72, 256]) torch.Size([3])\n",
            "output torch.Size([32, 3, 256])\n",
            "out_forward dim torch.Size([32, 128])\n",
            "out_reverse dim torch.Size([32, 128])\n",
            "out_reduced torch.Size([32, 256])\n",
            "text_fea torch.Size([32, 256])\n",
            "text_fea2 torch.Size([32, 1])\n",
            "text_fea2 torch.Size([32])\n",
            "text_out torch.Size([32])\n",
            "text_emb torch.Size([32, 3, 300])\n",
            "packed input torch.Size([72, 300]) torch.Size([3])\n",
            "packed output torch.Size([72, 256]) torch.Size([3])\n",
            "output torch.Size([32, 3, 256])\n",
            "out_forward dim torch.Size([32, 128])\n",
            "out_reverse dim torch.Size([32, 128])\n",
            "out_reduced torch.Size([32, 256])\n",
            "text_fea torch.Size([32, 256])\n",
            "text_fea2 torch.Size([32, 1])\n",
            "text_fea2 torch.Size([32])\n",
            "text_out torch.Size([32])\n",
            "text_emb torch.Size([32, 3, 300])\n",
            "packed input torch.Size([72, 300]) torch.Size([3])\n",
            "packed output torch.Size([72, 256]) torch.Size([3])\n",
            "output torch.Size([32, 3, 256])\n",
            "out_forward dim torch.Size([32, 128])\n",
            "out_reverse dim torch.Size([32, 128])\n",
            "out_reduced torch.Size([32, 256])\n",
            "text_fea torch.Size([32, 256])\n",
            "text_fea2 torch.Size([32, 1])\n",
            "text_fea2 torch.Size([32])\n",
            "text_out torch.Size([32])\n",
            "text_emb torch.Size([32, 3, 300])\n",
            "packed input torch.Size([72, 300]) torch.Size([3])\n",
            "packed output torch.Size([72, 256]) torch.Size([3])\n",
            "output torch.Size([32, 3, 256])\n",
            "out_forward dim torch.Size([32, 128])\n",
            "out_reverse dim torch.Size([32, 128])\n",
            "out_reduced torch.Size([32, 256])\n",
            "text_fea torch.Size([32, 256])\n",
            "text_fea2 torch.Size([32, 1])\n",
            "text_fea2 torch.Size([32])\n",
            "text_out torch.Size([32])\n",
            "text_emb torch.Size([32, 3, 300])\n",
            "packed input torch.Size([72, 300]) torch.Size([3])\n",
            "packed output torch.Size([72, 256]) torch.Size([3])\n",
            "output torch.Size([32, 3, 256])\n",
            "out_forward dim torch.Size([32, 128])\n",
            "out_reverse dim torch.Size([32, 128])\n",
            "out_reduced torch.Size([32, 256])\n",
            "text_fea torch.Size([32, 256])\n",
            "text_fea2 torch.Size([32, 1])\n",
            "text_fea2 torch.Size([32])\n",
            "text_out torch.Size([32])\n",
            "Model saved to ==> .//metrics.pt\n",
            "Finished Training!\n"
          ]
        }
      ]
    },
    {
      "cell_type": "code",
      "source": [
        "import seaborn as sns\n",
        "import matplotlib.pyplot as plt\n",
        "\n",
        "train_loss_list, valid_loss_list, global_steps_list = load_metrics('metrics.pt')\n",
        "plt.plot(global_steps_list, train_loss_list, label='Train')\n",
        "plt.plot(global_steps_list, valid_loss_list, label='Valid')\n",
        "plt.xlabel('Global Steps')\n",
        "plt.ylabel('Loss')\n",
        "plt.legend()\n",
        "plt.show() "
      ],
      "metadata": {
        "colab": {
          "base_uri": "https://localhost:8080/",
          "height": 297
        },
        "id": "WP1ZtAjGQPFh",
        "outputId": "79beed41-10a7-4905-b99e-c97d305700a8"
      },
      "execution_count": null,
      "outputs": [
        {
          "output_type": "stream",
          "name": "stdout",
          "text": [
            "Model loaded from <== metrics.pt\n"
          ]
        },
        {
          "output_type": "display_data",
          "data": {
            "text/plain": [
              "<Figure size 432x288 with 1 Axes>"
            ],
            "image/png": "[encoded data removed]"
          },
          "metadata": {
            "needs_background": "light"
          }
        }
      ]
    },
    {
      "cell_type": "code",
      "source": [
        "# Evaluation Function\n",
        "from sklearn.metrics import accuracy_score, classification_report, confusion_matrix\n",
        "\n",
        "def evaluate(model, test_loader, version='title', threshold=0.5):\n",
        "    y_pred = []\n",
        "    y_true = []\n",
        "\n",
        "    model.eval()\n",
        "    with torch.no_grad():\n",
        "        for (labels, (text, text_len)), _ in test_loader:    \n",
        "            print(\"labels are\", labels)\n",
        "            print(\"text is\", text)\n",
        "            print(\"the word in vocab is\", text_field.vocab.itos[text])\n",
        "            print(\"text len is\", text_len)       \n",
        "            labels = labels.to(device)\n",
        "            text = text.to(device)\n",
        "            output = model(text, text_len)\n",
        "\n",
        "            output = (output > threshold).int()\n",
        "            y_pred.extend(output.tolist())\n",
        "            y_true.extend(labels.tolist())\n",
        "    \n",
        "    #print('Classification Report:')\n",
        "    print(y_true)\n",
        "    print(y_pred)\n",
        "    #print(classification_report(y_true, y_pred, labels=[1,0], digits=4))\n",
        "    \n",
        "    cm = confusion_matrix(y_true, y_pred, labels=[1,0])\n",
        "    ax= plt.subplot()\n",
        "    sns.heatmap(cm, annot=True, ax = ax, cmap='Blues', fmt=\"d\")\n",
        "\n",
        "    ax.set_title('Confusion Matrix')\n",
        "\n",
        "    ax.set_xlabel('Predicted Labels')\n",
        "    ax.set_ylabel('True Labels')\n",
        "\n",
        "    ax.xaxis.set_ticklabels(['Toxic', 'Non toxic'])\n",
        "    ax.yaxis.set_ticklabels(['Toxic', 'Non toxic'])\n",
        "    \n",
        "    \n",
        "best_model = LSTM().to(device)\n",
        "optimizer = optim.Adam(best_model.parameters(), lr=0.001)\n",
        "\n",
        "load_checkpoint('model.pt', best_model, optimizer)\n",
        "evaluate(best_model, test_iter)"
      ],
      "metadata": {
        "colab": {
          "base_uri": "https://localhost:8080/",
          "height": 983
        },
        "id": "zSqYbnlse6z6",
        "outputId": "459930fb-1045-4184-e6bb-14044e99cb95"
      },
      "execution_count": null,
      "outputs": [
        {
          "output_type": "stream",
          "name": "stdout",
          "text": [
            "Model loaded from <== model.pt\n",
            "labels are tensor([0., 0., 0., 0., 0., 0., 0., 0., 0., 0., 0., 0., 0., 0., 0., 0., 0., 0.,\n",
            "        0., 0., 0., 0., 0., 0., 0., 1., 0., 0., 0., 0., 0., 1.])\n",
            "text is tensor([[   0,    0, 4786],\n",
            "        [ 393,  774,    0],\n",
            "        [2206, 1286,    0],\n",
            "        [ 162,  865, 3523],\n",
            "        [4230,   13,    0],\n",
            "        [   0,  981,  270],\n",
            "        [ 140,   45,  372],\n",
            "        [3150,    0,  140],\n",
            "        [ 513,    0, 2716],\n",
            "        [ 244, 1179,  164],\n",
            "        [   0,  997,   53],\n",
            "        [   0,   91,  561],\n",
            "        [ 162, 1281,  122],\n",
            "        [  66,    9,   31],\n",
            "        [   2, 2102, 5191],\n",
            "        [   0,  103,    0],\n",
            "        [ 103, 2043,   45],\n",
            "        [   3,  237,   45],\n",
            "        [ 513,   45,   57],\n",
            "        [6315, 3433,    0],\n",
            "        [   8,    0, 6245],\n",
            "        [ 656,  164,    0],\n",
            "        [1079,    3,    1],\n",
            "        [2526, 2550,    1],\n",
            "        [ 172,  490,    1],\n",
            "        [ 245,    0,    1],\n",
            "        [ 561,  164,    1],\n",
            "        [   0,  561,    1],\n",
            "        [4790,   45,    1],\n",
            "        [   0,    0,    1],\n",
            "        [ 934, 2587,    1],\n",
            "        [  58,    5,    1]])\n"
          ]
        },
        {
          "output_type": "error",
          "ename": "TypeError",
          "evalue": "ignored",
          "traceback": [
            "\u001b[0;31m---------------------------------------------------------------------------\u001b[0m",
            "\u001b[0;31mTypeError\u001b[0m                                 Traceback (most recent call last)",
            "\u001b[0;32m<ipython-input-117-ced17024e38a>\u001b[0m in \u001b[0;36m<module>\u001b[0;34m()\u001b[0m\n\u001b[1;32m     43\u001b[0m \u001b[0;34m\u001b[0m\u001b[0m\n\u001b[1;32m     44\u001b[0m \u001b[0mload_checkpoint\u001b[0m\u001b[0;34m(\u001b[0m\u001b[0;34m'model.pt'\u001b[0m\u001b[0;34m,\u001b[0m \u001b[0mbest_model\u001b[0m\u001b[0;34m,\u001b[0m \u001b[0moptimizer\u001b[0m\u001b[0;34m)\u001b[0m\u001b[0;34m\u001b[0m\u001b[0;34m\u001b[0m\u001b[0m\n\u001b[0;32m---> 45\u001b[0;31m \u001b[0mevaluate\u001b[0m\u001b[0;34m(\u001b[0m\u001b[0mbest_model\u001b[0m\u001b[0;34m,\u001b[0m \u001b[0mtest_iter\u001b[0m\u001b[0;34m)\u001b[0m\u001b[0;34m\u001b[0m\u001b[0;34m\u001b[0m\u001b[0m\n\u001b[0m",
            "\u001b[0;32m<ipython-input-117-ced17024e38a>\u001b[0m in \u001b[0;36mevaluate\u001b[0;34m(model, test_loader, version, threshold)\u001b[0m\n\u001b[1;32m     11\u001b[0m             \u001b[0mprint\u001b[0m\u001b[0;34m(\u001b[0m\u001b[0;34m\"labels are\"\u001b[0m\u001b[0;34m,\u001b[0m \u001b[0mlabels\u001b[0m\u001b[0;34m)\u001b[0m\u001b[0;34m\u001b[0m\u001b[0;34m\u001b[0m\u001b[0m\n\u001b[1;32m     12\u001b[0m             \u001b[0mprint\u001b[0m\u001b[0;34m(\u001b[0m\u001b[0;34m\"text is\"\u001b[0m\u001b[0;34m,\u001b[0m \u001b[0mtext\u001b[0m\u001b[0;34m)\u001b[0m\u001b[0;34m\u001b[0m\u001b[0;34m\u001b[0m\u001b[0m\n\u001b[0;32m---> 13\u001b[0;31m             \u001b[0mprint\u001b[0m\u001b[0;34m(\u001b[0m\u001b[0;34m\"the word in vocab is\"\u001b[0m\u001b[0;34m,\u001b[0m \u001b[0mtext_field\u001b[0m\u001b[0;34m.\u001b[0m\u001b[0mvocab\u001b[0m\u001b[0;34m.\u001b[0m\u001b[0mitos\u001b[0m\u001b[0;34m[\u001b[0m\u001b[0mtext\u001b[0m\u001b[0;34m]\u001b[0m\u001b[0;34m)\u001b[0m\u001b[0;34m\u001b[0m\u001b[0;34m\u001b[0m\u001b[0m\n\u001b[0m\u001b[1;32m     14\u001b[0m             \u001b[0mprint\u001b[0m\u001b[0;34m(\u001b[0m\u001b[0;34m\"text len is\"\u001b[0m\u001b[0;34m,\u001b[0m \u001b[0mtext_len\u001b[0m\u001b[0;34m)\u001b[0m\u001b[0;34m\u001b[0m\u001b[0;34m\u001b[0m\u001b[0m\n\u001b[1;32m     15\u001b[0m             \u001b[0mlabels\u001b[0m \u001b[0;34m=\u001b[0m \u001b[0mlabels\u001b[0m\u001b[0;34m.\u001b[0m\u001b[0mto\u001b[0m\u001b[0;34m(\u001b[0m\u001b[0mdevice\u001b[0m\u001b[0;34m)\u001b[0m\u001b[0;34m\u001b[0m\u001b[0;34m\u001b[0m\u001b[0m\n",
            "\u001b[0;31mTypeError\u001b[0m: only integer tensors of a single element can be converted to an index"
          ]
        }
      ]
    },
    {
      "cell_type": "code",
      "source": [
        "text"
      ],
      "metadata": {
        "id": "1AVis4QQfS-a",
        "colab": {
          "base_uri": "https://localhost:8080/"
        },
        "outputId": "89d5ad84-e0de-4797-9b18-9b97dc50dfc6"
      },
      "execution_count": null,
      "outputs": [
        {
          "output_type": "execute_result",
          "data": {
            "text/plain": [
              "tensor([ 313., 4163., 8341., 2732., 2359., 2154., 7312., 5682., 1442., 7152.,\n",
              "        1032., 9740., 5747., 7113., 5833., 4280., 6036., 3745., 5312., 1921.,\n",
              "         478., 9289., 7476., 3007., 2787., 7701., 8465., 9403., 9659., 8731.,\n",
              "        1394., 1482.])"
            ]
          },
          "metadata": {},
          "execution_count": 104
        }
      ]
    }
  ]
}